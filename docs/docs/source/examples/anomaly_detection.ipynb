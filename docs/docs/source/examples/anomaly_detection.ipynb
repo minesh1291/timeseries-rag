{
 "cells": [
  {
   "cell_type": "markdown",
   "metadata": {},
   "source": [
    "# Anomaly Detection Example\n",
    "\n",
    "This notebook demonstrates how to use Time Series RAG for anomaly detection in sensor data."
   ]
  },
  {
   "cell_type": "code",
   "execution_count": null,
   "metadata": {},
   "source": [
    "import pandas as pd\n",
    "import numpy as np\n",
    "import matplotlib.pyplot as plt\n",
    "from timeseries_rag.models import TimeSeriesEmbedder\n",
    "from timeseries_rag.rag import TimeSeriesRAG, TimeSeriesDocument\n",
    "from timeseries_rag.analytics import TimeSeriesAnalytics"
   ]
  },
  {
   "cell_type": "markdown",
   "metadata": {},
   "source": [
    "## Load Sensor Data"
   ]
  },
  {
   "cell_type": "code",
   "execution_count": null,
   "metadata": {},
   "source": [
    "# Load sensor data\n",
    "temperature_df = pd.read_csv('../../../data/sensor/temperature.csv')\n",
    "vibration_df = pd.read_csv('../../../data/sensor/vibration.csv')\n",
    "pressure_df = pd.read_csv('../../../data/sensor/pressure.csv')\n",
    "\n",
    "# Convert timestamps\n",
    "temperature_df['timestamp'] = pd.to_datetime(temperature_df['timestamp'])\n",
    "vibration_df['timestamp'] = pd.to_datetime(vibration_df['timestamp'])\n",
    "pressure_df['timestamp'] = pd.to_datetime(pressure_df['timestamp'])"
   ]
  },
  {
   "cell_type": "markdown",
   "metadata": {},
   "source": [
    "## Detect Anomalies"
   ]
  },
  {
   "cell_type": "code",
   "execution_count": null,
   "metadata": {},
   "source": [
    "# Initialize analytics for each sensor\n",
    "temp_analytics = TimeSeriesAnalytics(temperature_df['value'].values)\n",
    "vib_analytics = TimeSeriesAnalytics(vibration_df['value'].values)\n",
    "press_analytics = TimeSeriesAnalytics(pressure_df['value'].values)\n",
    "\n",
    "# Detect anomalies\n",
    "temp_anomalies = temp_analytics.detect_anomalies(window_size=24)\n",
    "vib_anomalies = vib_analytics.detect_anomalies(window_size=24)\n",
    "press_anomalies = press_analytics.detect_anomalies(window_size=24)\n",
    "\n",
    "# Plot results\n",
    "plt.figure(figsize=(15, 10))\n",
    "\n",
    "# Temperature\n",
    "plt.subplot(3, 1, 1)\n",
    "plt.plot(temperature_df['timestamp'], temperature_df['value'], label='Temperature')\n",
    "if temp_anomalies:\n",
    "    anomaly_idx = [x[0] for x in temp_anomalies]\n",
    "    plt.scatter(temperature_df['timestamp'].iloc[anomaly_idx],\n",
    "                temperature_df['value'].iloc[anomaly_idx],\n",
    "                color='red', label='Anomalies')\n",
    "plt.title('Temperature Sensor')\n",
    "plt.legend()\n",
    "\n",
    "# Vibration\n",
    "plt.subplot(3, 1, 2)\n",
    "plt.plot(vibration_df['timestamp'], vibration_df['value'], label='Vibration')\n",
    "if vib_anomalies:\n",
    "    anomaly_idx = [x[0] for x in vib_anomalies]\n",
    "    plt.scatter(vibration_df['timestamp'].iloc[anomaly_idx],\n",
    "                vibration_df['value'].iloc[anomaly_idx],\n",
    "                color='red', label='Anomalies')\n",
    "plt.title('Vibration Sensor')\n",
    "plt.legend()\n",
    "\n",
    "# Pressure\n",
    "plt.subplot(3, 1, 3)\n",
    "plt.plot(pressure_df['timestamp'], pressure_df['value'], label='Pressure')\n",
    "if press_anomalies:\n",
    "    anomaly_idx = [x[0] for x in press_anomalies]\n",
    "    plt.scatter(pressure_df['timestamp'].iloc[anomaly_idx],\n",
    "                pressure_df['value'].iloc[anomaly_idx],\n",
    "                color='red', label='Anomalies')\n",
    "plt.title('Pressure Sensor')\n",
    "plt.legend()\n",
    "\n",
    "plt.tight_layout()\n",
    "plt.show()"
   ]
  },
  {
   "cell_type": "markdown",
   "metadata": {},
   "source": [
    "## Analyze Anomaly Patterns"
   ]
  },
  {
   "cell_type": "code",
   "execution_count": null,
   "metadata": {},
   "source": [
    "# Initialize RAG system\n",
    "embedder = TimeSeriesEmbedder()\n",
    "rag = TimeSeriesRAG()\n",
    "\n",
    "# Function to extract windows around anomalies\n",
    "def extract_anomaly_windows(data, anomalies, window_size=12):\n",
    "    windows = []\n",
    "    for idx, _ in anomalies:\n",
    "        start = max(0, idx - window_size//2)\n",
    "        end = min(len(data), idx + window_size//2)\n",
    "        windows.append(data[start:end])\n",
    "    return windows\n",
    "\n",
    "# Extract and store anomaly patterns\n",
    "for sensor, anomalies, data in [\n",
    "    ('temperature', temp_anomalies, temperature_df['value'].values),\n",
    "    ('vibration', vib_anomalies, vibration_df['value'].values),\n",
    "    ('pressure', press_anomalies, pressure_df['value'].values)\n",
    "]:\n",
    "    windows = extract_anomaly_windows(data, anomalies)\n",
    "    for i, window in enumerate(windows):\n",
    "        embedding = embedder.embed(window)\n",
    "        doc = TimeSeriesDocument(\n",
    "            id=f'{sensor}_anomaly_{i}',\n",
    "            data=window,\n",
    "            metadata={'sensor': sensor, 'type': 'anomaly'},\n",
    "            embedding=embedding\n",
    "        )\n",
    "        rag.add_document(doc)\n",
    "\n",
    "# Find similar anomaly patterns\n",
    "if temp_anomalies:  # Use first temperature anomaly as query\n",
    "    query_window = extract_anomaly_windows(\n",
    "        temperature_df['value'].values,\n",
    "        [temp_anomalies[0]]\n",
    "    )[0]\n",
    "    query_embedding = embedder.embed(query_window)\n",
    "    results = rag.search(query_embedding, k=3)\n",
    "    \n",
    "    # Plot similar anomalies\n",
    "    plt.figure(figsize=(12, 4))\n",
    "    plt.subplot(1, 2, 1)\n",
    "    plt.plot(query_window)\n",
    "    plt.title('Query Anomaly Pattern')\n",
    "    \n",
    "    plt.subplot(1, 2, 2)\n",
    "    for result in results:\n",
    "        plt.plot(result['data'],\n",
    "                 label=f'{result[\"metadata\"][\"sensor\"]} '\n",
    "                       f'(dist: {result[\"distance\"]:.2f})')\n",
    "    plt.title('Similar Anomaly Patterns')\n",
    "    plt.legend()\n",
    "    plt.tight_layout()\n",
    "    plt.show()"
   ]
  }
 ],
 "metadata": {
  "kernelspec": {
   "display_name": "Python 3",
   "language": "python",
   "name": "python3"
  },
  "language_info": {
   "codemirror_mode": {
    "name": "ipython",
    "version": 3
   },
   "file_extension": ".py",
   "mimetype": "text/x-python",
   "name": "python",
   "nbconvert_exporter": "python",
   "pygments_lexer": "ipython3",
   "version": "3.8.0"
  }
 },
 "nbformat": 4,
 "nbformat_minor": 4
}
{
 "cells": [
  {
   "cell_type": "markdown",
   "metadata": {},
   "source": [
    "# Pattern Recognition Example\n",
    "\n",
    "This notebook demonstrates how to use Time Series RAG for pattern recognition tasks.\n",
    "\n",
    "**Note**: This is a documentation example. To run this notebook, make sure you have installed the package and its dependencies:\n",
    "\n",
    "```bash\n",
    "pip install -e .\n",
    "```"
   ]
  },
  {
   "cell_type": "markdown",
   "metadata": {},
   "source": [
    "# Pattern Recognition Example\n",
    "\n",
    "This notebook demonstrates how to use Time Series RAG for pattern recognition tasks."
   ]
  },
  {
   "cell_type": "code",
   "execution_count": null,
   "metadata": {},
   "source": [
    "import pandas as pd\n",
    "import numpy as np\n",
    "import matplotlib.pyplot as plt\n",
    "from timeseries_rag.models import TimeSeriesEmbedder\n",
    "from timeseries_rag.rag import TimeSeriesRAG, TimeSeriesDocument\n",
    "from timeseries_rag.analytics import TimeSeriesAnalytics"
   ]
  },
  {
   "cell_type": "markdown",
   "metadata": {},
   "source": [
    "## Load Example Data"
   ]
  },
  {
   "cell_type": "code",
   "execution_count": null,
   "metadata": {},
   "source": [
    "# Load synthetic patterns\n",
    "sine_df = pd.read_csv('../../../data/synthetic/sine_amplitude.csv')\n",
    "composite_df = pd.read_csv('../../../data/synthetic/composite.csv')\n",
    "square_df = pd.read_csv('../../../data/synthetic/square_noisy.csv')\n",
    "trend_df = pd.read_csv('../../../data/synthetic/trend_seasonal.csv')"
   ]
  },
  {
   "cell_type": "markdown",
   "metadata": {},
   "source": [
    "## Extract and Analyze Patterns"
   ]
  },
  {
   "cell_type": "code",
   "execution_count": null,
   "metadata": {},
   "source": [
    "# Initialize analytics\n",
    "analytics = TimeSeriesAnalytics(sine_df['value'].values)\n",
    "\n",
    "# Extract common patterns\n",
    "patterns = analytics.extract_patterns(window_size=24, n_patterns=3)\n",
    "\n",
    "# Plot patterns\n",
    "plt.figure(figsize=(15, 5))\n",
    "for i, pattern in enumerate(patterns):\n",
    "    plt.subplot(1, 3, i+1)\n",
    "    plt.plot(pattern['pattern'])\n",
    "    plt.title(f'Pattern {i+1}\\nFrequency: {pattern[\"frequency\"]:.2f}')\n",
    "plt.tight_layout()\n",
    "plt.show()"
   ]
  },
  {
   "cell_type": "markdown",
   "metadata": {},
   "source": [
    "## Search for Similar Patterns"
   ]
  },
  {
   "cell_type": "code",
   "execution_count": null,
   "metadata": {},
   "source": [
    "# Initialize RAG system\n",
    "embedder = TimeSeriesEmbedder()\n",
    "rag = TimeSeriesRAG()\n",
    "\n",
    "# Add patterns to database\n",
    "for i, pattern in enumerate(patterns):\n",
    "    embedding = embedder.embed(pattern['pattern'])\n",
    "    doc = TimeSeriesDocument(\n",
    "        id=f'pattern_{i}',\n",
    "        data=pattern['pattern'],\n",
    "        metadata={'frequency': pattern['frequency']},\n",
    "        embedding=embedding\n",
    "    )\n",
    "    rag.add_document(doc)\n",
    "\n",
    "# Search for similar patterns\n",
    "query = patterns[0]['pattern']\n",
    "query_embedding = embedder.embed(query)\n",
    "results = rag.search(query_embedding, k=2)\n",
    "\n",
    "# Plot results\n",
    "plt.figure(figsize=(10, 5))\n",
    "plt.subplot(1, 2, 1)\n",
    "plt.plot(query)\n",
    "plt.title('Query Pattern')\n",
    "\n",
    "plt.subplot(1, 2, 2)\n",
    "for result in results:\n",
    "    plt.plot(result['data'], label=f'Distance: {result[\"distance\"]:.2f}')\n",
    "plt.title('Similar Patterns')\n",
    "plt.legend()\n",
    "plt.tight_layout()\n",
    "plt.show()"
   ]
  }
 ],
 "metadata": {
  "kernelspec": {
   "display_name": "Python 3",
   "language": "python",
   "name": "python3"
  },
  "language_info": {
   "codemirror_mode": {
    "name": "ipython",
    "version": 3
   },
   "file_extension": ".py",
   "mimetype": "text/x-python",
   "name": "python",
   "nbconvert_exporter": "python",
   "pygments_lexer": "ipython3",
   "version": "3.8.0"
  }
 },
 "nbformat": 4,
 "nbformat_minor": 4
}
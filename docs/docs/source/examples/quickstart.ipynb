{
 "cells": [
  {
   "cell_type": "markdown",
   "metadata": {},
   "source": [
    "# Quick Start Guide\n",
    "\n",
    "This notebook provides a quick introduction to Time Series RAG."
   ]
  },
  {
   "cell_type": "code",
   "execution_count": null,
   "metadata": {},
   "source": [
    "import numpy as np\n",
    "from timeseries_rag.models import TimeSeriesEmbedder\n",
    "from timeseries_rag.rag import TimeSeriesRAG, TimeSeriesDocument\n",
    "\n",
    "# Create sample data\n",
    "t = np.linspace(0, 10, 100)\n",
    "sine_wave = np.sin(t)\n",
    "\n",
    "# Initialize components\n",
    "embedder = TimeSeriesEmbedder()\n",
    "rag = TimeSeriesRAG()"
   ]
  },
  {
   "cell_type": "markdown",
   "metadata": {},
   "source": [
    "## Add Data to RAG System"
   ]
  },
  {
   "cell_type": "code",
   "execution_count": null,
   "metadata": {},
   "source": [
    "# Generate embedding\n",
    "embedding = embedder.embed(sine_wave)\n",
    "\n",
    "# Create document\n",
    "doc = TimeSeriesDocument(\n",
    "    id=\"sine_1\",\n",
    "    data=sine_wave,\n",
    "    metadata={\"type\": \"sine\", \"frequency\": 1.0},\n",
    "    embedding=embedding\n",
    ")\n",
    "\n",
    "# Add to RAG system\n",
    "rag.add_document(doc)"
   ]
  }
 ],
 "metadata": {
  "kernelspec": {
   "display_name": "Python 3",
   "language": "python",
   "name": "python3"
  },
  "language_info": {
   "codemirror_mode": {
    "name": "ipython",
    "version": 3
   },
   "file_extension": ".py",
   "mimetype": "text/x-python",
   "name": "python",
   "nbconvert_exporter": "python",
   "pygments_lexer": "ipython3",
   "version": "3.8.0"
  },
  "nbsphinx": {
   "execute": "never"
  }
 },
 "nbformat": 4,
 "nbformat_minor": 4
}